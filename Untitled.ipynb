{
 "cells": [
  {
   "cell_type": "code",
   "execution_count": null,
   "id": "daf3d026-b559-447b-a413-8278e594d616",
   "metadata": {},
   "outputs": [],
   "source": [
    "# streamlit_app.py\n",
    "import streamlit as st\n",
    "import pandas as pd\n",
    "import joblib\n",
    "import os\n",
    "\n",
    "# ==== Load model & preprocessor with caching ====\n",
    "@st.cache(allow_output_mutation=True)\n",
    "def load_model_and_preprocessor():\n",
    "    file_dir = os.path.dirname(__file__)  # ensures relative path\n",
    "    preprocessor_path = os.path.join(file_dir, \"preprocessor.pkl\")\n",
    "    model_path = os.path.join(file_dir, \"xgb_churn_model.pkl\")\n",
    "    \n",
    "    try:\n",
    "        preprocessor = joblib.load(preprocessor_path)\n",
    "    except FileNotFoundError:\n",
    "        st.error(f\"Preprocessor file not found at {preprocessor_path}\")\n",
    "        return None, None\n",
    "    \n",
    "    try:\n",
    "        model = joblib.load(model_path)\n",
    "    except FileNotFoundError:\n",
    "        st.error(f\"Model file not found at {model_path}\")\n",
    "        return None, None\n",
    "\n",
    "    return preprocessor, model\n",
    "\n",
    "# ==== Main app function ====\n",
    "def main():\n",
    "    st.set_page_config(page_title=\"Customer Churn Predictor\", layout=\"centered\")\n",
    "    st.title(\"📊 Customer Churn Prediction App\")\n",
    "    st.write(\"Enter customer details below to predict churn probability.\")\n",
    "\n",
    "    # Load preprocessor and model\n",
    "    preprocessor, model = load_model_and_preprocessor()\n",
    "    if preprocessor is None or model is None:\n",
    "        st.stop()  # stop if files not loaded\n",
    "\n",
    "    # Sidebar for input parameters\n",
    "    st.sidebar.header(\"Enter Customer Details\")\n",
    "    credit_score = st.sidebar.number_input(\"Credit Score\", 350, 850, 600)\n",
    "    age = st.sidebar.number_input(\"Age\", 18, 92, 30)\n",
    "    tenure = st.sidebar.number_input(\"Tenure (Years with Bank)\", 0, 10, 2)\n",
    "    balance = st.sidebar.number_input(\"Balance\", 0.0, 250000.0, 8000.0, step=100.0)\n",
    "    num_products = st.sidebar.selectbox(\"Number of Products\", [1, 2, 3, 4], index=1)\n",
    "    has_card = st.sidebar.radio(\"Has Credit Card?\", [0, 1], index=1)\n",
    "    is_active = st.sidebar.radio(\"Is Active Member?\", [0, 1], index=1)\n",
    "    salary = st.sidebar.number_input(\"Estimated Salary\", 0.0, 200000.0, 60000.0, step=500.0)\n",
    "    geography = st.sidebar.selectbox(\"Geography\", [\"France\", \"Spain\", \"Germany\"])\n",
    "    gender = st.sidebar.selectbox(\"Gender\", [\"Female\", \"Male\"])\n",
    "    card_type = st.sidebar.selectbox(\"Card Type\", [\"SILVER\", \"GOLD\", \"PLATINUM\", \"DIAMOND\"])\n",
    "\n",
    "    # Predict button\n",
    "    if st.sidebar.button(\"🔮 Predict Churn\"):\n",
    "        # Prepare data for prediction\n",
    "        sample = pd.DataFrame([{\n",
    "            \"CreditScore\": credit_score,\n",
    "            \"Age\": age,\n",
    "            \"Tenure\": tenure,\n",
    "            \"Balance\": balance,\n",
    "            \"NumOfProducts\": num_products,\n",
    "            \"HasCrCard\": has_card,\n",
    "            \"IsActiveMember\": is_active,\n",
    "            \"EstimatedSalary\": salary,\n",
    "            \"Geography\": geography,\n",
    "            \"Gender\": gender,\n",
    "            \"Card_Type\": card_type\n",
    "        }])\n",
    "\n",
    "        try:\n",
    "            # Transform and predict\n",
    "            X = preprocessor.transform(sample)\n",
    "            proba = model.predict_proba(X)[0][1]\n",
    "            pred = model.predict(X)[0]\n",
    "\n",
    "            # Display results\n",
    "            st.subheader(\"✅ Prediction Result\")\n",
    "            if pred:\n",
    "                st.error(f\"🔴 Customer is likely to churn! Probability: {proba:.2%}\")\n",
    "            else:\n",
    "                st.success(f\"🟢 Customer is unlikely to churn. Probability: {proba:.2%}\")\n",
    "        except ValueError as e:\n",
    "            st.error(f\"Error during prediction. Check input format: {e}\")\n",
    "\n",
    "# ==== Run the app ====\n",
    "if __name__ == \"__main__\":\n",
    "    main()\n"
   ]
  },
  {
   "cell_type": "code",
   "execution_count": 6,
   "id": "754db0be-8e7f-40e8-a0a3-50ef70b55e1b",
   "metadata": {},
   "outputs": [
    {
     "name": "stdout",
     "output_type": "stream",
     "text": [
      "Requirement already satisfied: mistune==2.0.4 in c:\\users\\user\\anaconda3\\lib\\site-packages (2.0.4)\n",
      "Note: you may need to restart the kernel to use updated packages.\n"
     ]
    }
   ],
   "source": [
    "pip install mistune==2.0.4\n"
   ]
  },
  {
   "cell_type": "code",
   "execution_count": 12,
   "id": "d533761b-2261-4e0f-8c6b-9ef493d662be",
   "metadata": {},
   "outputs": [
    {
     "name": "stdout",
     "output_type": "stream",
     "text": [
      "Requirement already satisfied: nbconvert in c:\\users\\user\\anaconda3\\lib\\site-packages (7.16.3)\n",
      "Collecting nbconvert\n",
      "  Downloading nbconvert-7.16.6-py3-none-any.whl.metadata (8.5 kB)\n",
      "Requirement already satisfied: beautifulsoup4 in c:\\users\\user\\anaconda3\\lib\\site-packages (from nbconvert) (4.12.3)\n",
      "Requirement already satisfied: bleach!=5.0.0 in c:\\users\\user\\anaconda3\\lib\\site-packages (from bleach[css]!=5.0.0->nbconvert) (4.1.0)\n",
      "Requirement already satisfied: defusedxml in c:\\users\\user\\anaconda3\\lib\\site-packages (from nbconvert) (0.7.1)\n",
      "Requirement already satisfied: jinja2>=3.0 in c:\\users\\user\\anaconda3\\lib\\site-packages (from nbconvert) (3.1.4)\n",
      "Requirement already satisfied: jupyter-core>=4.7 in c:\\users\\user\\anaconda3\\lib\\site-packages (from nbconvert) (5.7.2)\n",
      "Requirement already satisfied: jupyterlab-pygments in c:\\users\\user\\anaconda3\\lib\\site-packages (from nbconvert) (0.1.2)\n",
      "Requirement already satisfied: markupsafe>=2.0 in c:\\users\\user\\anaconda3\\lib\\site-packages (from nbconvert) (2.1.3)\n",
      "Requirement already satisfied: mistune<4,>=2.0.3 in c:\\users\\user\\anaconda3\\lib\\site-packages (from nbconvert) (2.0.4)\n",
      "Requirement already satisfied: nbclient>=0.5.0 in c:\\users\\user\\anaconda3\\lib\\site-packages (from nbconvert) (0.8.0)\n",
      "Requirement already satisfied: nbformat>=5.7 in c:\\users\\user\\anaconda3\\lib\\site-packages (from nbconvert) (5.10.4)\n",
      "Requirement already satisfied: packaging in c:\\users\\user\\anaconda3\\lib\\site-packages (from nbconvert) (23.2)\n",
      "Requirement already satisfied: pandocfilters>=1.4.1 in c:\\users\\user\\anaconda3\\lib\\site-packages (from nbconvert) (1.5.0)\n",
      "Requirement already satisfied: pygments>=2.4.1 in c:\\users\\user\\anaconda3\\lib\\site-packages (from nbconvert) (2.15.1)\n",
      "Requirement already satisfied: traitlets>=5.1 in c:\\users\\user\\anaconda3\\lib\\site-packages (from nbconvert) (5.14.3)\n",
      "Requirement already satisfied: six>=1.9.0 in c:\\users\\user\\anaconda3\\lib\\site-packages (from bleach!=5.0.0->bleach[css]!=5.0.0->nbconvert) (1.16.0)\n",
      "Requirement already satisfied: webencodings in c:\\users\\user\\anaconda3\\lib\\site-packages (from bleach!=5.0.0->bleach[css]!=5.0.0->nbconvert) (0.5.1)\n",
      "Requirement already satisfied: platformdirs>=2.5 in c:\\users\\user\\anaconda3\\lib\\site-packages (from jupyter-core>=4.7->nbconvert) (3.10.0)\n",
      "Requirement already satisfied: pywin32>=300 in c:\\users\\user\\anaconda3\\lib\\site-packages (from jupyter-core>=4.7->nbconvert) (305.1)\n",
      "Requirement already satisfied: jupyter-client>=6.1.12 in c:\\users\\user\\anaconda3\\lib\\site-packages (from nbclient>=0.5.0->nbconvert) (8.6.0)\n",
      "Requirement already satisfied: python-dateutil>=2.8.2 in c:\\users\\user\\anaconda3\\lib\\site-packages (from jupyter-client>=6.1.12->nbclient>=0.5.0->nbconvert) (2.9.0.post0)\n",
      "Requirement already satisfied: pyzmq>=23.0 in c:\\users\\user\\anaconda3\\lib\\site-packages (from jupyter-client>=6.1.12->nbclient>=0.5.0->nbconvert) (25.1.2)\n",
      "Requirement already satisfied: tornado>=6.2 in c:\\users\\user\\anaconda3\\lib\\site-packages (from jupyter-client>=6.1.12->nbclient>=0.5.0->nbconvert) (6.4.1)\n",
      "Requirement already satisfied: fastjsonschema>=2.15 in c:\\users\\user\\anaconda3\\lib\\site-packages (from nbformat>=5.7->nbconvert) (2.16.2)\n",
      "Requirement already satisfied: jsonschema>=2.6 in c:\\users\\user\\anaconda3\\lib\\site-packages (from nbformat>=5.7->nbconvert) (4.23.0)\n",
      "Requirement already satisfied: attrs>=22.2.0 in c:\\users\\user\\anaconda3\\lib\\site-packages (from jsonschema>=2.6->nbformat>=5.7->nbconvert) (24.2.0)\n",
      "Requirement already satisfied: jsonschema-specifications>=2023.03.6 in c:\\users\\user\\anaconda3\\lib\\site-packages (from jsonschema>=2.6->nbformat>=5.7->nbconvert) (2023.7.1)\n",
      "Requirement already satisfied: referencing>=0.28.4 in c:\\users\\user\\anaconda3\\lib\\site-packages (from jsonschema>=2.6->nbformat>=5.7->nbconvert) (0.30.2)\n",
      "Requirement already satisfied: rpds-py>=0.7.1 in c:\\users\\user\\anaconda3\\lib\\site-packages (from jsonschema>=2.6->nbformat>=5.7->nbconvert) (0.10.6)\n",
      "Requirement already satisfied: soupsieve>1.2 in c:\\users\\user\\anaconda3\\lib\\site-packages (from beautifulsoup4->nbconvert) (2.5)\n",
      "Downloading nbconvert-7.16.6-py3-none-any.whl (258 kB)\n",
      "Installing collected packages: nbconvert\n",
      "  Attempting uninstall: nbconvert\n",
      "    Found existing installation: nbconvert 7.16.3\n",
      "    Uninstalling nbconvert-7.16.3:\n",
      "      Successfully uninstalled nbconvert-7.16.3\n",
      "Successfully installed nbconvert-7.16.4\n"
     ]
    },
    {
     "name": "stderr",
     "output_type": "stream",
     "text": [
      "WARNING: bleach 4.1.0 does not provide the extra 'css'\n",
      "ERROR: pip's dependency resolver does not currently take into account all the packages that are installed. This behaviour is the source of the following dependency conflicts.\n",
      "spyder 5.5.1 requires ipython!=8.17.1,<9.0.0,>=8.13.0; python_version > \"3.8\", but you have ipython 8.12.3 which is incompatible.\n"
     ]
    }
   ],
   "source": [
    "!pip install --upgrade nbconvert\n"
   ]
  },
  {
   "cell_type": "code",
   "execution_count": 16,
   "id": "99bc7de5-85cf-4846-8b78-04c06d4fc0f7",
   "metadata": {},
   "outputs": [
    {
     "name": "stderr",
     "output_type": "stream",
     "text": [
      "Traceback (most recent call last):\n",
      "  File \"C:\\Users\\USER\\anaconda3\\Lib\\site-packages\\nbconvert\\filters\\markdown_mistune.py\", line 37, in <module>\n",
      "    from mistune import (  # type:ignore[attr-defined]\n",
      "  File \"C:\\Users\\USER\\anaconda3\\Lib\\site-packages\\mistune\\__init__.py\", line 4, in <module>\n",
      "    from .renderers import AstRenderer, HTMLRenderer\n",
      "ImportError: cannot import name 'AstRenderer' from 'mistune.renderers' (C:\\Users\\USER\\anaconda3\\Lib\\site-packages\\mistune\\renderers\\__init__.py)\n",
      "\n",
      "During handling of the above exception, another exception occurred:\n",
      "\n",
      "Traceback (most recent call last):\n",
      "  File \"<frozen runpy>\", line 198, in _run_module_as_main\n",
      "  File \"<frozen runpy>\", line 88, in _run_code\n",
      "  File \"C:\\Users\\USER\\anaconda3\\Scripts\\jupyter-nbconvert.EXE\\__main__.py\", line 2, in <module>\n",
      "  File \"C:\\Users\\USER\\anaconda3\\Lib\\site-packages\\nbconvert\\__init__.py\", line 7, in <module>\n",
      "    from .exporters import (\n",
      "  File \"C:\\Users\\USER\\anaconda3\\Lib\\site-packages\\nbconvert\\exporters\\__init__.py\", line 4, in <module>\n",
      "    from .html import HTMLExporter\n",
      "  File \"C:\\Users\\USER\\anaconda3\\Lib\\site-packages\\nbconvert\\exporters\\html.py\", line 30, in <module>\n",
      "    from nbconvert.filters.markdown_mistune import IPythonRenderer, MarkdownWithMath\n",
      "  File \"C:\\Users\\USER\\anaconda3\\Lib\\site-packages\\nbconvert\\filters\\markdown_mistune.py\", line 53, in <module>\n",
      "    from mistune import (  # type: ignore[attr-defined]\n",
      "  File \"C:\\Users\\USER\\anaconda3\\Lib\\site-packages\\mistune\\__init__.py\", line 4, in <module>\n",
      "    from .renderers import AstRenderer, HTMLRenderer\n",
      "ImportError: cannot import name 'AstRenderer' from 'mistune.renderers' (C:\\Users\\USER\\anaconda3\\Lib\\site-packages\\mistune\\renderers\\__init__.py)\n"
     ]
    }
   ],
   "source": [
    "!jupyter nbconvert --to script Untitled.ipynb\n"
   ]
  },
  {
   "cell_type": "code",
   "execution_count": 18,
   "id": "c4c63137-fcc1-4662-a420-708a62d71981",
   "metadata": {},
   "outputs": [
    {
     "name": "stdout",
     "output_type": "stream",
     "text": [
      "Found existing installation: mistune 2.0.4Note: you may need to restart the kernel to use updated packages.\n",
      "\n",
      "Uninstalling mistune-2.0.4:\n",
      "  Successfully uninstalled mistune-2.0.4\n"
     ]
    }
   ],
   "source": [
    "pip uninstall mistune -y\n"
   ]
  },
  {
   "cell_type": "code",
   "execution_count": null,
   "id": "24d53f7d-acba-44bc-98b1-816dba27c26b",
   "metadata": {},
   "outputs": [],
   "source": []
  }
 ],
 "metadata": {
  "kernelspec": {
   "display_name": "Python [conda env:base] *",
   "language": "python",
   "name": "conda-base-py"
  },
  "language_info": {
   "codemirror_mode": {
    "name": "ipython",
    "version": 3
   },
   "file_extension": ".py",
   "mimetype": "text/x-python",
   "name": "python",
   "nbconvert_exporter": "python",
   "pygments_lexer": "ipython3",
   "version": "3.11.5"
  }
 },
 "nbformat": 4,
 "nbformat_minor": 5
}
